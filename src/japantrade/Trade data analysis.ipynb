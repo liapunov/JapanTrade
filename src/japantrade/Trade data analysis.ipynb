{
 "cells": [
  {
   "cell_type": "code",
   "execution_count": 1,
   "metadata": {},
   "outputs": [],
   "source": [
    "import numpy as np\n",
    "import pandas as pd\n",
    "import zipfile as zfile\n",
    "from functools import reduce\n",
    "import matplotlib.pyplot as plt\n",
    "import seaborn as sns\n",
    "from tradeanalysis import TradeReport as trr\n",
    "from tradefile import TradeFile as trf"
   ]
  },
  {
   "cell_type": "code",
   "execution_count": 2,
   "metadata": {},
   "outputs": [
    {
     "name": "stderr",
     "output_type": "stream",
     "text": [
      "tradefile   : WARNING  Warning: this operation might take more than one  minute if the file spans over more years.\n",
      "tradefile   : WARNING  Warning: this operation might take more than one  minute if the file spans over more years.\n"
     ]
    },
    {
     "name": "stdout",
     "output_type": "stream",
     "text": [
      "Opening ../data/import_PC_2020-2020.zip...\n",
      "Loading the file...\n",
      "Unpivoting the monthly columns. This might take a minute...\n"
     ]
    },
    {
     "name": "stderr",
     "output_type": "stream",
     "text": [
      "tradefile   : INFO     The melting took 0.10056781768798828, the splitting 0.7796595096588135, the cleaning 0.08223152160644531 and the date merging time is 0.34664154052734375.\n",
      "tradefile   : INFO     The melting took 0.10056781768798828, the splitting 0.7796595096588135, the cleaning 0.08223152160644531 and the date merging time is 0.34664154052734375.\n",
      "tradefile   : INFO     Unpivoting the metrics...\n",
      "tradefile   : INFO     Unpivoting the metrics...\n",
      "tradefile   : INFO     Merging ../data/import_PC_2021-2021.zip to the existing database.\n",
      "tradefile   : INFO     Merging ../data/import_PC_2021-2021.zip to the existing database.\n"
     ]
    },
    {
     "name": "stdout",
     "output_type": "stream",
     "text": [
      "Opening ../data/import_PC_2021-2021.zip...\n",
      "Loading the file...\n",
      "Unpivoting the monthly columns. This might take a minute...\n"
     ]
    },
    {
     "name": "stderr",
     "output_type": "stream",
     "text": [
      "tradefile   : INFO     The melting took 0.05557513236999512, the splitting 0.44306182861328125, the cleaning 0.04329395294189453 and the date merging time is 0.1980421543121338.\n",
      "tradefile   : INFO     The melting took 0.05557513236999512, the splitting 0.44306182861328125, the cleaning 0.04329395294189453 and the date merging time is 0.1980421543121338.\n",
      "tradefile   : INFO     Unpivoting the metrics...\n",
      "tradefile   : INFO     Unpivoting the metrics...\n"
     ]
    },
    {
     "name": "stdout",
     "output_type": "stream",
     "text": [
      "              value\n",
      "count  3.883580e+05\n",
      "mean   6.277731e+08\n",
      "std    8.646442e+09\n",
      "min    1.000000e+00\n",
      "25%    1.184000e+03\n",
      "50%    1.638000e+06\n",
      "75%    3.669475e+07\n",
      "max    9.847465e+11\n",
      "            code country       value     date unit kind\n",
      "309455   2110503     108          45  2020-06   MT   PC\n",
      "110230     70125     209    33511000  2020-02  JPY   PC\n",
      "14237    7050303     324           6  2021-01   NO   PC\n",
      "1990         401     103           4  2021-01   MT   PC\n",
      "2304       21105     117         720  2020-01   MT   PC\n",
      "539307     70119     234  2080597000  2020-09  JPY   PC\n",
      "577053  70503031     517          81  2020-10   NO   PC\n",
      "703777   8130101     103     1326543  2020-12   SM   PC\n",
      "269342     70503     545        1523  2020-05   NO   PC\n",
      "464140         5     239     8850000  2020-08  JPY   PC\n"
     ]
    }
   ],
   "source": [
    "data_2020_2021 = trf(\"../data/import_PC_2020-2020.zip\", merge_file=\"../data/import_PC_2021-2021.zip\")\n",
    "print(data_2020_2021.data.describe())\n",
    "print(data_2020_2021.data.sample(10))"
   ]
  },
  {
   "cell_type": "code",
   "execution_count": 3,
   "metadata": {},
   "outputs": [
    {
     "name": "stderr",
     "output_type": "stream",
     "text": [
      "tradefile   : INFO     TradeFile.save_to_file: saved data to ../data/PC_2020-01_2021-01.csv.\n",
      "tradefile   : INFO     TradeFile.save_to_file: saved data to ../data/PC_2020-01_2021-01.csv.\n"
     ]
    }
   ],
   "source": [
    "data_2020_2021.save_to_file(path=\"../data/\")"
   ]
  },
  {
   "cell_type": "code",
   "execution_count": 2,
   "metadata": {},
   "outputs": [
    {
     "name": "stdout",
     "output_type": "stream",
     "text": [
      "TradeReport: the uploaded data start at date 2020-01-01 00:00:00 and end at date 2021-01-01 00:00:00.\n"
     ]
    }
   ],
   "source": [
    "report = trr(source_file=\"../data/PC_2020-01_2021-01.csv\")"
   ]
  },
  {
   "cell_type": "code",
   "execution_count": 3,
   "metadata": {},
   "outputs": [
    {
     "data": {
      "text/html": [
       "<div>\n",
       "<style scoped>\n",
       "    .dataframe tbody tr th:only-of-type {\n",
       "        vertical-align: middle;\n",
       "    }\n",
       "\n",
       "    .dataframe tbody tr th {\n",
       "        vertical-align: top;\n",
       "    }\n",
       "\n",
       "    .dataframe thead th {\n",
       "        text-align: right;\n",
       "    }\n",
       "</style>\n",
       "<table border=\"1\" class=\"dataframe\">\n",
       "  <thead>\n",
       "    <tr style=\"text-align: right;\">\n",
       "      <th></th>\n",
       "      <th></th>\n",
       "      <th></th>\n",
       "      <th></th>\n",
       "      <th></th>\n",
       "      <th>value</th>\n",
       "    </tr>\n",
       "    <tr>\n",
       "      <th>kind</th>\n",
       "      <th>date</th>\n",
       "      <th>country</th>\n",
       "      <th>code</th>\n",
       "      <th>unit</th>\n",
       "      <th></th>\n",
       "    </tr>\n",
       "  </thead>\n",
       "  <tbody>\n",
       "    <tr>\n",
       "      <th rowspan=\"10\" valign=\"top\">PC</th>\n",
       "      <th rowspan=\"10\" valign=\"top\">2020-01-01</th>\n",
       "      <th rowspan=\"10\" valign=\"top\">103</th>\n",
       "      <th>0</th>\n",
       "      <th>JPY</th>\n",
       "      <td>2521380000</td>\n",
       "    </tr>\n",
       "    <tr>\n",
       "      <th rowspan=\"3\" valign=\"top\">1</th>\n",
       "      <th>JPY</th>\n",
       "      <td>25685000</td>\n",
       "    </tr>\n",
       "    <tr>\n",
       "      <th>JPY</th>\n",
       "      <td>77133000</td>\n",
       "    </tr>\n",
       "    <tr>\n",
       "      <th>NO</th>\n",
       "      <td>7079</td>\n",
       "    </tr>\n",
       "    <tr>\n",
       "      <th>2</th>\n",
       "      <th>JPY</th>\n",
       "      <td>14008736000</td>\n",
       "    </tr>\n",
       "    <tr>\n",
       "      <th>3</th>\n",
       "      <th>JPY</th>\n",
       "      <td>30451277000</td>\n",
       "    </tr>\n",
       "    <tr>\n",
       "      <th rowspan=\"2\" valign=\"top\">4</th>\n",
       "      <th>JPY</th>\n",
       "      <td>171658000</td>\n",
       "    </tr>\n",
       "    <tr>\n",
       "      <th>MT</th>\n",
       "      <td>995</td>\n",
       "    </tr>\n",
       "    <tr>\n",
       "      <th rowspan=\"2\" valign=\"top\">5</th>\n",
       "      <th>JPY</th>\n",
       "      <td>307000</td>\n",
       "    </tr>\n",
       "    <tr>\n",
       "      <th>JPY</th>\n",
       "      <td>86998243000</td>\n",
       "    </tr>\n",
       "  </tbody>\n",
       "</table>\n",
       "</div>"
      ],
      "text/plain": [
       "                                         value\n",
       "kind date       country code unit             \n",
       "PC   2020-01-01 103     0    JPY    2521380000\n",
       "                        1    JPY      25685000\n",
       "                             JPY      77133000\n",
       "                             NO           7079\n",
       "                        2    JPY   14008736000\n",
       "                        3    JPY   30451277000\n",
       "                        4    JPY     171658000\n",
       "                             MT            995\n",
       "                        5    JPY        307000\n",
       "                             JPY   86998243000"
      ]
     },
     "execution_count": 3,
     "metadata": {},
     "output_type": "execute_result"
    }
   ],
   "source": [
    "report.trade_df.head(10)"
   ]
  },
  {
   "cell_type": "code",
   "execution_count": 48,
   "metadata": {},
   "outputs": [
    {
     "data": {
      "text/plain": [
       "code     4.030000e+02\n",
       "value    4.769042e+06\n",
       "dtype: float64"
      ]
     },
     "execution_count": 48,
     "metadata": {},
     "output_type": "execute_result"
    }
   ],
   "source": [
    "df_group = report.trade_df.loc['PC', :,[210,220],  403, 'JPY'].reset_index(['kind', 'code', 'unit'])\n",
    "df_group.groupby(['country', pd.Grouper(level=\"date\", freq='M')]).mean()"
   ]
  },
  {
   "cell_type": "code",
   "execution_count": 27,
   "metadata": {},
   "outputs": [],
   "source": [
    "df['date'] = pd.to_datetime(df['date'])"
   ]
  },
  {
   "cell_type": "code",
   "execution_count": 30,
   "metadata": {},
   "outputs": [
    {
     "data": {
      "text/html": [
       "<div>\n",
       "<style scoped>\n",
       "    .dataframe tbody tr th:only-of-type {\n",
       "        vertical-align: middle;\n",
       "    }\n",
       "\n",
       "    .dataframe tbody tr th {\n",
       "        vertical-align: top;\n",
       "    }\n",
       "\n",
       "    .dataframe thead th {\n",
       "        text-align: right;\n",
       "    }\n",
       "</style>\n",
       "<table border=\"1\" class=\"dataframe\">\n",
       "  <thead>\n",
       "    <tr style=\"text-align: right;\">\n",
       "      <th></th>\n",
       "      <th></th>\n",
       "      <th></th>\n",
       "      <th></th>\n",
       "      <th></th>\n",
       "      <th>value</th>\n",
       "    </tr>\n",
       "    <tr>\n",
       "      <th>kind</th>\n",
       "      <th>date</th>\n",
       "      <th>country</th>\n",
       "      <th>code</th>\n",
       "      <th>unit</th>\n",
       "      <th></th>\n",
       "    </tr>\n",
       "  </thead>\n",
       "  <tbody>\n",
       "    <tr>\n",
       "      <th rowspan=\"10\" valign=\"top\">PC</th>\n",
       "      <th rowspan=\"10\" valign=\"top\">2020-01-01</th>\n",
       "      <th rowspan=\"10\" valign=\"top\">103</th>\n",
       "      <th>0</th>\n",
       "      <th>JPY</th>\n",
       "      <td>2521380000</td>\n",
       "    </tr>\n",
       "    <tr>\n",
       "      <th rowspan=\"3\" valign=\"top\">1</th>\n",
       "      <th>JPY</th>\n",
       "      <td>25685000</td>\n",
       "    </tr>\n",
       "    <tr>\n",
       "      <th>JPY</th>\n",
       "      <td>77133000</td>\n",
       "    </tr>\n",
       "    <tr>\n",
       "      <th>NO</th>\n",
       "      <td>7079</td>\n",
       "    </tr>\n",
       "    <tr>\n",
       "      <th>2</th>\n",
       "      <th>JPY</th>\n",
       "      <td>14008736000</td>\n",
       "    </tr>\n",
       "    <tr>\n",
       "      <th>3</th>\n",
       "      <th>JPY</th>\n",
       "      <td>30451277000</td>\n",
       "    </tr>\n",
       "    <tr>\n",
       "      <th rowspan=\"2\" valign=\"top\">4</th>\n",
       "      <th>JPY</th>\n",
       "      <td>171658000</td>\n",
       "    </tr>\n",
       "    <tr>\n",
       "      <th>MT</th>\n",
       "      <td>995</td>\n",
       "    </tr>\n",
       "    <tr>\n",
       "      <th rowspan=\"2\" valign=\"top\">5</th>\n",
       "      <th>JPY</th>\n",
       "      <td>307000</td>\n",
       "    </tr>\n",
       "    <tr>\n",
       "      <th>JPY</th>\n",
       "      <td>86998243000</td>\n",
       "    </tr>\n",
       "  </tbody>\n",
       "</table>\n",
       "</div>"
      ],
      "text/plain": [
       "                                         value\n",
       "kind date       country code unit             \n",
       "PC   2020-01-01 103     0    JPY    2521380000\n",
       "                        1    JPY      25685000\n",
       "                             JPY      77133000\n",
       "                             NO           7079\n",
       "                        2    JPY   14008736000\n",
       "                        3    JPY   30451277000\n",
       "                        4    JPY     171658000\n",
       "                             MT            995\n",
       "                        5    JPY        307000\n",
       "                             JPY   86998243000"
      ]
     },
     "execution_count": 30,
     "metadata": {},
     "output_type": "execute_result"
    }
   ],
   "source": [
    "df.set_index(['kind', 'date', 'country', 'code', 'unit'], inplace=True)\n",
    "df.head(10)"
   ]
  }
 ],
 "metadata": {
  "kernelspec": {
   "display_name": "Python 3",
   "language": "python",
   "name": "python3"
  },
  "language_info": {
   "codemirror_mode": {
    "name": "ipython",
    "version": 3
   },
   "file_extension": ".py",
   "mimetype": "text/x-python",
   "name": "python",
   "nbconvert_exporter": "python",
   "pygments_lexer": "ipython3",
   "version": "3.7.9"
  }
 },
 "nbformat": 4,
 "nbformat_minor": 4
}
