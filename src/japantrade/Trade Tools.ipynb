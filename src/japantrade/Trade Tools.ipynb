{
 "cells": [
  {
   "cell_type": "code",
   "execution_count": 1,
   "metadata": {},
   "outputs": [],
   "source": [
    "import pandas as pd\n",
    "from tradefile import TradeFile\n",
    "from customsgrabber import CustomsGrabber"
   ]
  },
  {
   "cell_type": "markdown",
   "metadata": {},
   "source": [
    "As of 2021, unfortunately, while the Japanese trade data are open to consult, the official website of the Japanese Customs does not provide a dynamic connection to the trade data at the row level, and it is not possible to query the database in order to extract data for specific conditions (e.g. country and commodity). Instead, the website provides either a closed query interface or a set of files divided by month and by a subset of the commodity codes, either the Principal Commodity codes or the HS (Harmonized System) codes.\n",
    "\n",
    "The class CustomsGrabber provides a downloader for the trade data from the Japanese Customs Website. The data are saved as a zip containing one or more csv file. The single csv files are original from the website.\n",
    "Currently, CustomsGrabber is able to download one or more years of data along these two dimensions:\n",
    "- *direction*: 'import' (goods to Japan) or 'export';\n",
    "The *kind*, 'HS' (the international Harmonized System coding) or 'PC' (Principal Commodity, a summarization of HS codes by categories that the Japanese Government deems useful) is inferred by the columns of the file."
   ]
  },
  {
   "cell_type": "code",
   "execution_count": null,
   "metadata": {},
   "outputs": [],
   "source": [
    "grabber = CustomsGrabber()\n",
    "grabber.grabRange(from_year=2021, to_year=2021, direction='import', kind='PC') # data from 2020 only\n",
    "grabber.grabRange(from_year=2020, to_year=2020, direction='import', kind='PC') # data from 2020 only"
   ]
  },
  {
   "cell_type": "markdown",
   "metadata": {},
   "source": [
    "The class TradeFile provides the tools to open and transform a wide form csv file from the Japanese Customs website.\n",
    "The files are in wide format, with month columns possibly multiplied by the number of units (e.g. Kgs, Number of units, and thousands JPY).\n",
    "\n",
    "TradeFile can open these files from an archive, merge and normalize all the files so that the resulting data have the following form:\n",
    "- The commodity code\n",
    "- The target country\n",
    "- The date (month and year) of acquisition\n",
    "- The unit of measure\n",
    "- The value or the measure"
   ]
  },
  {
   "cell_type": "code",
   "execution_count": 2,
   "metadata": {},
   "outputs": [
    {
     "name": "stdout",
     "output_type": "stream",
     "text": [
      "Loading the file...\n",
      "Unpivoting the monthly columns. This might take a minute...\n",
      "Unpivoting the metrics...\n",
      "Loading the file...\n",
      "Unpivoting the monthly columns. This might take a minute...\n",
      "Unpivoting the metrics...\n"
     ]
    },
    {
     "data": {
      "text/html": [
       "<div>\n",
       "<style scoped>\n",
       "    .dataframe tbody tr th:only-of-type {\n",
       "        vertical-align: middle;\n",
       "    }\n",
       "\n",
       "    .dataframe tbody tr th {\n",
       "        vertical-align: top;\n",
       "    }\n",
       "\n",
       "    .dataframe thead th {\n",
       "        text-align: right;\n",
       "    }\n",
       "</style>\n",
       "<table border=\"1\" class=\"dataframe\">\n",
       "  <thead>\n",
       "    <tr style=\"text-align: right;\">\n",
       "      <th></th>\n",
       "      <th>code</th>\n",
       "      <th>country</th>\n",
       "      <th>value</th>\n",
       "      <th>date</th>\n",
       "      <th>unit</th>\n",
       "    </tr>\n",
       "  </thead>\n",
       "  <tbody>\n",
       "    <tr>\n",
       "      <th>18936</th>\n",
       "      <td>7012703</td>\n",
       "      <td>519</td>\n",
       "      <td>0</td>\n",
       "      <td>2020-01</td>\n",
       "      <td>NO</td>\n",
       "    </tr>\n",
       "    <tr>\n",
       "      <th>347759</th>\n",
       "      <td>6111701</td>\n",
       "      <td>207</td>\n",
       "      <td>0</td>\n",
       "      <td>2021-10</td>\n",
       "      <td>JPY</td>\n",
       "    </tr>\n",
       "    <tr>\n",
       "      <th>169443</th>\n",
       "      <td>7010505</td>\n",
       "      <td>134</td>\n",
       "      <td>0</td>\n",
       "      <td>2020-03</td>\n",
       "      <td>JPY</td>\n",
       "    </tr>\n",
       "    <tr>\n",
       "      <th>491994</th>\n",
       "      <td>00901</td>\n",
       "      <td>120</td>\n",
       "      <td>0</td>\n",
       "      <td>2020-09</td>\n",
       "      <td>MT</td>\n",
       "    </tr>\n",
       "    <tr>\n",
       "      <th>113344</th>\n",
       "      <td>7030903</td>\n",
       "      <td>516</td>\n",
       "      <td>0</td>\n",
       "      <td>2020-02</td>\n",
       "      <td>JPY</td>\n",
       "    </tr>\n",
       "    <tr>\n",
       "      <th>383318</th>\n",
       "      <td>61107011</td>\n",
       "      <td>118</td>\n",
       "      <td>0</td>\n",
       "      <td>2021-11</td>\n",
       "      <td>JPY</td>\n",
       "    </tr>\n",
       "    <tr>\n",
       "      <th>191977</th>\n",
       "      <td>70313</td>\n",
       "      <td>218</td>\n",
       "      <td>0</td>\n",
       "      <td>2021-06</td>\n",
       "      <td>KG</td>\n",
       "    </tr>\n",
       "    <tr>\n",
       "      <th>557293</th>\n",
       "      <td>507</td>\n",
       "      <td>538</td>\n",
       "      <td>0</td>\n",
       "      <td>2020-10</td>\n",
       "      <td>KG</td>\n",
       "    </tr>\n",
       "    <tr>\n",
       "      <th>252058</th>\n",
       "      <td>60301</td>\n",
       "      <td>331</td>\n",
       "      <td>0</td>\n",
       "      <td>2020-05</td>\n",
       "      <td>MT</td>\n",
       "    </tr>\n",
       "    <tr>\n",
       "      <th>524848</th>\n",
       "      <td>303</td>\n",
       "      <td>134</td>\n",
       "      <td>1121000</td>\n",
       "      <td>2020-09</td>\n",
       "      <td>JPY</td>\n",
       "    </tr>\n",
       "  </tbody>\n",
       "</table>\n",
       "</div>"
      ],
      "text/plain": [
       "            code country    value     date unit\n",
       "18936    7012703     519        0  2020-01   NO\n",
       "347759   6111701     207        0  2021-10  JPY\n",
       "169443   7010505     134        0  2020-03  JPY\n",
       "491994     00901     120        0  2020-09   MT\n",
       "113344   7030903     516        0  2020-02  JPY\n",
       "383318  61107011     118        0  2021-11  JPY\n",
       "191977     70313     218        0  2021-06   KG\n",
       "557293       507     538        0  2020-10   KG\n",
       "252058     60301     331        0  2020-05   MT\n",
       "524848       303     134  1121000  2020-09  JPY"
      ]
     },
     "execution_count": 2,
     "metadata": {},
     "output_type": "execute_result"
    }
   ],
   "source": [
    "path = \"../data/import_PC_2020-2020.zip\"\n",
    "tool = TradeFile(path, merge_file=\"../data/import_PC_2021-2021.zip\")\n",
    "tool.data.sample(10)"
   ]
  },
  {
   "cell_type": "code",
   "execution_count": null,
   "metadata": {},
   "outputs": [],
   "source": [
    "tool.data.sample(20)"
   ]
  },
  {
   "cell_type": "code",
   "execution_count": null,
   "metadata": {},
   "outputs": [],
   "source": [
    "tool.data[tool.data['date'] == \"2020-07\"]['measure'].mean()"
   ]
  },
  {
   "cell_type": "code",
   "execution_count": null,
   "metadata": {},
   "outputs": [],
   "source": [
    "tool.data.to_csv(\"2020sep_PC_code_all_countries.csv\", index=False)"
   ]
  },
  {
   "cell_type": "code",
   "execution_count": null,
   "metadata": {
    "scrolled": true
   },
   "outputs": [],
   "source": [
    "timeseries = pd.read_csv(\"../../data/2020sep_PC_code_all_countries.csv\",\n",
    "                         parse_dates=['date'], index_col=['date'])"
   ]
  },
  {
   "cell_type": "code",
   "execution_count": null,
   "metadata": {},
   "outputs": [],
   "source": [
    "timeseries.loc['2017']"
   ]
  }
 ],
 "metadata": {
  "kernelspec": {
   "display_name": "Python 3",
   "language": "python",
   "name": "python3"
  },
  "language_info": {
   "codemirror_mode": {
    "name": "ipython",
    "version": 3
   },
   "file_extension": ".py",
   "mimetype": "text/x-python",
   "name": "python",
   "nbconvert_exporter": "python",
   "pygments_lexer": "ipython3",
   "version": "3.7.9"
  }
 },
 "nbformat": 4,
 "nbformat_minor": 2
}
