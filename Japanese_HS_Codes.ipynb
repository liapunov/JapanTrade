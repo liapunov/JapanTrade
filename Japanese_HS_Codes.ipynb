{
  "nbformat": 4,
  "nbformat_minor": 0,
  "metadata": {
    "colab": {
      "name": "Japanese HS Codes.ipynb",
      "provenance": []
    },
    "kernelspec": {
      "name": "python3",
      "display_name": "Python 3"
    }
  },
  "cells": [
    {
      "cell_type": "code",
      "metadata": {
        "id": "biLyqGW0FQrZ",
        "colab_type": "code",
        "colab": {}
      },
      "source": [
        "import re\n",
        "import numpy as np\n",
        "import pandas as pd"
      ],
      "execution_count": 0,
      "outputs": []
    },
    {
      "cell_type": "code",
      "metadata": {
        "id": "IM5rP-p7zoT7",
        "colab_type": "code",
        "outputId": "ccb23d26-e449-4f34-b26d-1e3670f6c800",
        "colab": {
          "base_uri": "https://localhost:8080/",
          "height": 129
        }
      },
      "source": [
        "from google.colab import drive\n",
        "drive.mount(\"/content/drive\")"
      ],
      "execution_count": 0,
      "outputs": [
        {
          "output_type": "stream",
          "text": [
            "Go to this URL in a browser: https://accounts.google.com/o/oauth2/auth?client_id=947318989803-6bn6qk8qdgf4n4g3pfee6491hc0brc4i.apps.googleusercontent.com&redirect_uri=urn%3aietf%3awg%3aoauth%3a2.0%3aoob&response_type=code&scope=email%20https%3a%2f%2fwww.googleapis.com%2fauth%2fdocs.test%20https%3a%2f%2fwww.googleapis.com%2fauth%2fdrive%20https%3a%2f%2fwww.googleapis.com%2fauth%2fdrive.photos.readonly%20https%3a%2f%2fwww.googleapis.com%2fauth%2fpeopleapi.readonly\n",
            "\n",
            "Enter your authorization code:\n",
            "··········\n",
            "Mounted at /content/drive\n"
          ],
          "name": "stdout"
        }
      ]
    },
    {
      "cell_type": "code",
      "metadata": {
        "id": "JaRa4-8wHy2C",
        "colab_type": "code",
        "colab": {}
      },
      "source": [
        "class HSCodes():\n",
        "    def __init__(self, *paths):\n",
        "        self.hs2_raw = pd.read_csv(paths[0],dtype={\"hs2\":object,\"hs2 name\":object})\n",
        "        self.hs4_raw = pd.read_csv(paths[1],dtype={\"hs4\":object,\"hs4 name\":object})\n",
        "        self.hs6_raw = pd.read_csv(paths[2],dtype={\"hs6\":object,\"hs6 name\":object})\n",
        "        self.hs9_raw = pd.read_csv(paths[3],dtype={\"hs9\":object,\"hs9 name\":object})\n",
        "\n",
        "        self.clean(\"underscore\")\n",
        "\n",
        "        self.hs2_merged = pd.DataFrame()\n",
        "        self.hs4_merged= pd.DataFrame()\n",
        "        self.hs6_merged= pd.DataFrame()\n",
        "        self.hs9_merged= pd.DataFrame()\n",
        "\n",
        "        self.hs_all = pd.DataFrame()\n",
        "\n",
        "    def clean(self, method):\n",
        "        if method == \"underscore\":\n",
        "            for f in [(self.hs2_raw,\"hs2\"), (self.hs4_raw,\"hs4\"),\\\n",
        "                      (self.hs6_raw,\"hs6\"), (self.hs9_raw,\"hs9\")]:\n",
        "                f[0][f[1]+\"_name\"] = f[0][f[1]+\"_name\"].str.replace(\"__\",\", \")\n",
        "                f[0][f[1]+\"_name\"] = f[0][f[1]+\"_name\"].str.replace(\"_\",\" \")\n",
        "\n",
        "    def mergeAndOrder(self):\n",
        "        \"\"\"Takes the descriptions of the HS codes at the four levels (2, 4, 6 nd 9)\n",
        "        and creates a single files with descriptions merged in the correct\n",
        "        hierarchical order. \"\"\"\n",
        "        hs_42 = self.hs4_raw.copy()\n",
        "        hs_42[\"2_code\"] = hs_42[\"hs4\"].str[:2]\n",
        "        hs42_merged = self.hs2_raw.merge(hs_42, left_on=\"hs2\", right_on=\"2_code\")\n",
        "        hs_64 = self.hs6_raw.copy()\n",
        "        hs_64[\"4_code\"] = hs_64[\"hs6\"].str[:4]\n",
        "        hs642_merged = hs42_merged.merge(hs_64, left_on=\"hs4\", right_on=\"4_code\")\n",
        "        hs_96 = self.hs9_raw.copy()\n",
        "        hs_96[\"6_code\"] = hs_96[\"hs9\"].str[:6]\n",
        "        hs9642_merged = hs642_merged.merge(hs_96, left_on=\"hs6\", right_on=\"6_code\")\n",
        "\n",
        "        self.hs_all = hs9642_merged.copy()\n",
        "\n",
        "        self.hs2_merged = self.hs2_raw.copy()\n",
        "        self.hs4_merged[\"hs4\"] = hs9642_merged[\"hs4\"]\n",
        "        self.hs4_merged[\"hs4_name\"] =  hs9642_merged[\"hs2_name\"] + \" - \" + hs9642_merged[\"hs4_name\"]\n",
        "        self.hs6_merged[\"hs6\"] = hs9642_merged[\"hs6\"]\n",
        "        self.hs6_merged[\"hs6_name\"] = hs9642_merged[\"hs2_name\"] + \" - \" + hs9642_merged[\"hs4_name\"]\\\n",
        "                                    + hs9642_merged[\"hs6_name\"]\n",
        "        self.hs9_merged[\"hs9\"] = hs9642_merged[\"hs9\"]\n",
        "        self.hs9_merged[\"hs9_name\"] = hs9642_merged[\"hs2_name\"] + \" - \" + hs9642_merged[\"hs4_name\"]\\\n",
        "                                    + hs9642_merged[\"hs6_name\"] + \" - \" + hs9642_merged[\"hs9_name\"]\n",
        "        \n",
        "        return self.hs2_merged.copy(), self.hs4_merged.copy(),\\\n",
        "                self.hs6_merged.copy(), self.hs9_merged.copy()\n"
      ],
      "execution_count": 0,
      "outputs": []
    },
    {
      "cell_type": "code",
      "metadata": {
        "id": "wZVzOfT3Fg0Z",
        "colab_type": "code",
        "outputId": "66046f5c-0170-4b02-92ce-ca2fadddaa63",
        "colab": {
          "base_uri": "https://localhost:8080/",
          "height": 531
        }
      },
      "source": [
        "hs_2_path = \"/content/drive/My Drive/Colab Notebooks/Data/hs2_eng.csv\"\n",
        "hs_4_path = \"/content/drive/My Drive/Colab Notebooks/Data/hs4_eng.csv\"\n",
        "hs_6_path = \"/content/drive/My Drive/Colab Notebooks/Data/hs6_eng.csv\"\n",
        "hs_9_path = \"/content/drive/My Drive/Colab Notebooks/Data/hs9_eng.csv\"\n",
        "\n",
        "save_path = \"/content/drive/My Drive/Colab Notebooks/Data/\"\n",
        "\n",
        "if __name__ == \"__main__\":\n",
        "    rawCodes = HSCodes(hs_2_path, hs_4_path, hs_6_path, hs_9_path)\n",
        "    hs2, hs4, hs6, hs9 = rawCodes.mergeAndOrder()\n",
        "    for f in [(hs4, \"hs4_fixed.csv\"), (hs6, \"hs6_fixed.csv\"), (hs9, \"hs9_fixed.csv\")]:\n",
        "        f[0].to_csv(save_path + f[1])\n"
      ],
      "execution_count": 0,
      "outputs": [
        {
          "output_type": "stream",
          "text": [
            "       hs4                                           hs4_name 2_code\n",
            "0     0000                                             unknow     00\n",
            "1     0101              Live horses, asses, mules and hinnies     01\n",
            "2     0102                                Live bovine animals     01\n",
            "3     0103                                         Live swine     01\n",
            "4     0104                               Live sheep and goats     01\n",
            "...    ...                                                ...    ...\n",
            "1219  9702        Original engravings, prints and lithographs     97\n",
            "1220  9703  Original sculptures and statuary, in any material     97\n",
            "1221  9704  Postage or revenue stamps, stamp-postmarks, fi...     97\n",
            "1222  9705  Collections and collectors' pieces of zoologic...     97\n",
            "1223  9706     Antiques of an age exceeding one hundred years     97\n",
            "\n",
            "[1224 rows x 3 columns]\n",
            "     hs2  ... 2_code\n",
            "0     01  ...     01\n",
            "1     01  ...     01\n",
            "2     01  ...     01\n",
            "3     01  ...     01\n",
            "4     01  ...     01\n",
            "...   ..  ...    ...\n",
            "1218  97  ...     97\n",
            "1219  97  ...     97\n",
            "1220  97  ...     97\n",
            "1221  97  ...     97\n",
            "1222  97  ...     97\n",
            "\n",
            "[1223 rows x 5 columns]\n"
          ],
          "name": "stdout"
        }
      ]
    }
  ]
}